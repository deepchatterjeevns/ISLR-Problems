{
 "cells": [
  {
   "cell_type": "markdown",
   "metadata": {},
   "source": [
    "# CHapter 5 Problem 8"
   ]
  },
  {
   "cell_type": "code",
   "execution_count": 74,
   "metadata": {},
   "outputs": [],
   "source": [
    "import numpy as np\n",
    "import pandas as pd\n",
    "import matplotlib.pyplot as plt\n",
    "from sklearn.model_selection import LeaveOneOut\n",
    "from sklearn.pipeline import Pipeline\n",
    "from sklearn.linear_model import LinearRegression\n",
    "from sklearn.preprocessing import PolynomialFeatures\n",
    "from sklearn.metrics import mean_squared_error"
   ]
  },
  {
   "cell_type": "markdown",
   "metadata": {},
   "source": [
    "## Part a"
   ]
  },
  {
   "cell_type": "code",
   "execution_count": 37,
   "metadata": {},
   "outputs": [],
   "source": [
    "np.random.seed(5)\n",
    "x = np.random.normal(size = 100)\n",
    "y = x -2*x**2 + np.random.normal(size = 100)\n"
   ]
  },
  {
   "cell_type": "markdown",
   "metadata": {},
   "source": [
    "n = 100, p = 2, $Y = X -2X^2 + \\epsilon$"
   ]
  },
  {
   "cell_type": "markdown",
   "metadata": {},
   "source": [
    "## Part b"
   ]
  },
  {
   "cell_type": "code",
   "execution_count": 41,
   "metadata": {},
   "outputs": [
    {
     "data": {
      "text/plain": [
       "<matplotlib.collections.PathCollection at 0x1213a7c10>"
      ]
     },
     "execution_count": 41,
     "metadata": {},
     "output_type": "execute_result"
    },
    {
     "data": {
      "image/png": "[encoded data removed]",
      "text/plain": [
       "<Figure size 432x288 with 1 Axes>"
      ]
     },
     "metadata": {
      "needs_background": "light"
     },
     "output_type": "display_data"
    }
   ],
   "source": [
    "plt.scatter(x,y)"
   ]
  },
  {
   "cell_type": "markdown",
   "metadata": {},
   "source": [
    "## Part c"
   ]
  },
  {
   "cell_type": "code",
   "execution_count": 54,
   "metadata": {},
   "outputs": [],
   "source": [
    "np.random.seed(1)\n",
    "loo = LeaveOneOut()\n",
    "df = pd.DataFrame({'x':x,'y':y})"
   ]
  },
  {
   "cell_type": "code",
   "execution_count": 85,
   "metadata": {},
   "outputs": [
    {
     "name": "stdout",
     "output_type": "stream",
     "text": [
      "Model 1 MSE: 9.325631\n",
      "Model 2 MSE: 1.121503\n",
      "Model 3 MSE: 1.173774\n",
      "Model 4 MSE: 2.251294\n"
     ]
    }
   ],
   "source": [
    "min_degree = 1\n",
    "max_degree = 4\n",
    "scores  = []\n",
    "for i in range(min_degree,max_degree+1):\n",
    "    \n",
    "    for train,test in loo.split(df):\n",
    "        \n",
    "            x_train = df['x'][train]\n",
    "            y_train = df['y'][train]\n",
    "            x_test = df['x'][test]\n",
    "            y_test = df['y'][test]\n",
    "            model = Pipeline([('poly', PolynomialFeatures(degree = i)),('linear',LinearRegression())])\n",
    "            model = model.fit(x_train[:,np.newaxis],y_train)\n",
    "            mse = mean_squared_error(y_test, model.predict(x_test[:,np.newaxis]))\n",
    "            scores.append(mse)\n",
    "    print(\"Model %i MSE: %f\"%(i,np.mean(scores)))\n",
    "    scores  = []"
   ]
  },
  {
   "cell_type": "markdown",
   "metadata": {},
   "source": [
    "## Part d"
   ]
  },
  {
   "cell_type": "code",
   "execution_count": 86,
   "metadata": {},
   "outputs": [
    {
     "name": "stdout",
     "output_type": "stream",
     "text": [
      "Model 1 MSE: 9.325631\n",
      "Model 2 MSE: 1.121503\n",
      "Model 3 MSE: 1.173774\n",
      "Model 4 MSE: 2.251294\n"
     ]
    }
   ],
   "source": [
    "np.random.seed(2)\n",
    "min_degree = 1\n",
    "max_degree = 4\n",
    "scores  = []\n",
    "for i in range(min_degree,max_degree+1):\n",
    "    \n",
    "    for train,test in loo.split(df):\n",
    "        \n",
    "            x_train = df['x'][train]\n",
    "            y_train = df['y'][train]\n",
    "            x_test = df['x'][test]\n",
    "            y_test = df['y'][test]\n",
    "            model = Pipeline([('poly', PolynomialFeatures(degree = i)),('linear',LinearRegression())])\n",
    "            model = model.fit(x_train[:,np.newaxis],y_train)\n",
    "            mse = mean_squared_error(y_test, model.predict(x_test[:,np.newaxis]))\n",
    "            scores.append(mse)\n",
    "    print(\"Model %i MSE: %f\"%(i,np.mean(scores)))\n",
    "    scores  = []"
   ]
  },
  {
   "cell_type": "markdown",
   "metadata": {},
   "source": [
    "The results are the same because because we only remove one element from the training set. The results will be the same regardless of the random seed."
   ]
  },
  {
   "cell_type": "markdown",
   "metadata": {},
   "source": [
    "## Part e"
   ]
  },
  {
   "cell_type": "markdown",
   "metadata": {},
   "source": [
    "The lowest MSE is model 2. This is to be expected because it is of the same for as y."
   ]
  },
  {
   "cell_type": "code",
   "execution_count": null,
   "metadata": {},
   "outputs": [],
   "source": []
  }
 ],
 "metadata": {
  "kernelspec": {
   "display_name": "Python 3",
   "language": "python",
   "name": "python3"
  },
  "language_info": {
   "codemirror_mode": {
    "name": "ipython",
    "version": 3
   },
   "file_extension": ".py",
   "mimetype": "text/x-python",
   "name": "python",
   "nbconvert_exporter": "python",
   "pygments_lexer": "ipython3",
   "version": "3.7.5"
  }
 },
 "nbformat": 4,
 "nbformat_minor": 4
}
